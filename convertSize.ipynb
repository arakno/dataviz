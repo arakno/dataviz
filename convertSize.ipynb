{
 "metadata": {
  "language_info": {
   "codemirror_mode": {
    "name": "ipython",
    "version": 3
   },
   "file_extension": ".py",
   "mimetype": "text/x-python",
   "name": "python",
   "nbconvert_exporter": "python",
   "pygments_lexer": "ipython3",
   "version": "3.8.3-final"
  },
  "orig_nbformat": 2,
  "kernelspec": {
   "name": "python3",
   "display_name": "Python 3.8.3 64-bit ('py3': conda)",
   "metadata": {
    "interpreter": {
     "hash": "eb9129f6961012ef24c6a71dc47399c085ff844e26d8622a787f3e39ac2f7f9d"
    }
   }
  }
 },
 "nbformat": 4,
 "nbformat_minor": 2,
 "cells": [
  {
   "cell_type": "code",
   "execution_count": 52,
   "metadata": {},
   "outputs": [
    {
     "output_type": "error",
     "ename": "TypeError",
     "evalue": "convert() takes 1 positional argument but 2 were given",
     "traceback": [
      "\u001b[0;31m---------------------------------------------------------------------------\u001b[0m",
      "\u001b[0;31mTypeError\u001b[0m                                 Traceback (most recent call last)",
      "\u001b[0;32m<ipython-input-52-f8a13f7e1eed>\u001b[0m in \u001b[0;36m<module>\u001b[0;34m\u001b[0m\n\u001b[1;32m     16\u001b[0m \u001b[0;34m\u001b[0m\u001b[0m\n\u001b[1;32m     17\u001b[0m \u001b[0;31m# sum = convert(\"4443530490 MB\")\u001b[0m\u001b[0;34m\u001b[0m\u001b[0;34m\u001b[0m\u001b[0;34m\u001b[0m\u001b[0m\n\u001b[0;32m---> 18\u001b[0;31m \u001b[0msum\u001b[0m \u001b[0;34m=\u001b[0m \u001b[0mconvert\u001b[0m\u001b[0;34m(\u001b[0m\u001b[0;34m\"KB\"\u001b[0m\u001b[0;34m,\u001b[0m \u001b[0;36m2455454\u001b[0m\u001b[0;34m)\u001b[0m\u001b[0;34m\u001b[0m\u001b[0;34m\u001b[0m\u001b[0m\n\u001b[0m\u001b[1;32m     19\u001b[0m \u001b[0mprint\u001b[0m\u001b[0;34m(\u001b[0m\u001b[0msum\u001b[0m\u001b[0;34m)\u001b[0m\u001b[0;34m\u001b[0m\u001b[0;34m\u001b[0m\u001b[0m\n",
      "\u001b[0;31mTypeError\u001b[0m: convert() takes 1 positional argument but 2 were given"
     ]
    }
   ],
   "source": [
    "def switch(suffix, x):\n",
    "    bsize=1024\n",
    "    return {\n",
    "        'B': lambda: x / (bsize ** 4),\n",
    "        'KB': lambda: x / (bsize ** 3),\n",
    "        'MB': lambda: x / (bsize ** 2),\n",
    "        'GB': lambda: x / (bsize ** 1),\n",
    "        'TB': lambda: x / (bsize / 2)\n",
    "    }.get(suffix, lambda: None)()\n",
    "\n",
    "def convert(size):\n",
    "    digits=float(size.split()[0])\n",
    "    suffix=str(size.split()[1])\n",
    "    return switch(suffix, digits)\n",
    "    # return dispatch_dict(\"KB\", 2455454)\n",
    "\n",
    "# sum = convert(\"4443530490 MB\")\n",
    "sum = convert(\"2455454 KB\")\n",
    "print(sum)\n"
   ]
  },
  {
   "cell_type": "code",
   "execution_count": null,
   "metadata": {},
   "outputs": [],
   "source": []
  },
  {
   "cell_type": "code",
   "execution_count": null,
   "metadata": {},
   "outputs": [],
   "source": []
  }
 ]
}